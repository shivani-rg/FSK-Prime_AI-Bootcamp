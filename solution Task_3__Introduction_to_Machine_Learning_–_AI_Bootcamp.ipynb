{
  "nbformat": 4,
  "nbformat_minor": 0,
  "metadata": {
    "colab": {
      "provenance": []
    },
    "kernelspec": {
      "name": "python3",
      "display_name": "Python 3"
    },
    "language_info": {
      "name": "python"
    }
  },
  "cells": [
    {
      "cell_type": "markdown",
      "source": [
        "# Task 3: Introduction to Machine Learning"
      ],
      "metadata": {
        "id": "L982FdumDCVn"
      }
    },
    {
      "cell_type": "markdown",
      "source": [
        "## Section 1: Setup & Dataset"
      ],
      "metadata": {
        "id": "gk9AwRFXDO6n"
      }
    },
    {
      "cell_type": "markdown",
      "source": [
        "### **Task 1**: Load the Dataset\n",
        "\n",
        "*Instruction*: Load the preprocessed Titanic dataset (from the previous module or load again if needed). Separate it into features (`X`) and target (`y`, where target = `Survived`)."
      ],
      "metadata": {
        "id": "tG2LLFb4DSrf"
      }
    },
    {
      "cell_type": "code",
      "source": [
        "import pandas as pd\n",
        "\n",
        "# Verify the file exists in the correct location. If necessary, correct the path\n",
        "# or place 'titanic_preprocessed.csv' in the same directory as this script.\n",
        "\n",
        "# Option 1: Using a relative path (assuming the file is in the 'data' subfolder)\n",
        "try:\n",
        "    df = pd.read_csv('data/titanic_preprocessed.csv')\n",
        "except FileNotFoundError:\n",
        "    print(\"File not found in 'data' subfolder. Check the file path or place the file in the correct location.\")\n",
        "    # If the file is not found, you may need to download it or specify the correct path\n",
        "    # For example, if the file is in the current directory:\n",
        "    df = pd.read_csv('titanic.csv') # Changed this line to assign df if file not found in 'data'\n",
        "\n",
        "X = df.drop('Survived', axis=1)\n",
        "y = df['Survived']"
      ],
      "metadata": {
        "id": "G6YtbgenDSWH",
        "colab": {
          "base_uri": "https://localhost:8080/"
        },
        "outputId": "5af587a9-bd69-4ca0-88a4-2f2f1cd9886b"
      },
      "execution_count": 7,
      "outputs": [
        {
          "output_type": "stream",
          "name": "stdout",
          "text": [
            "File not found in 'data' subfolder. Check the file path or place the file in the correct location.\n"
          ]
        }
      ]
    },
    {
      "cell_type": "markdown",
      "source": [
        "## Section 2: Splitting the Data"
      ],
      "metadata": {
        "id": "03CKwCBtDzRL"
      }
    },
    {
      "cell_type": "markdown",
      "source": [
        "### **Task 2**: Train/Test Split\n",
        "\n",
        "*Instruction*:\n",
        "\n",
        "Split the dataset into training and testing sets (80/20 split).\n"
      ],
      "metadata": {
        "id": "oh1W_9m5DuzF"
      }
    },
    {
      "cell_type": "code",
      "source": [
        "from sklearn.model_selection import train_test_split\n",
        "\n",
        "X_train, X_test, y_train, y_test = train_test_split(X, y, test_size=0.2, random_state=42)\n"
      ],
      "metadata": {
        "id": "SQTsWR6GDn6e"
      },
      "execution_count": 8,
      "outputs": []
    },
    {
      "cell_type": "markdown",
      "source": [
        "## Section 3: Train Your First Model"
      ],
      "metadata": {
        "id": "mVV1BgZvEE3a"
      }
    },
    {
      "cell_type": "markdown",
      "source": [
        "### **Task 3**: Logistic Regression\n",
        "\n",
        "*Instruction*: Train a Logistic Regression model on the Titanic dataset. Display accuracy on both train and test sets.\n",
        "\n"
      ],
      "metadata": {
        "id": "opUK7Z7LEIr4"
      }
    },
    {
      "cell_type": "code",
      "source": [
        "import pandas as pd\n",
        "from sklearn.model_selection import train_test_split\n",
        "from sklearn.linear_model import LogisticRegression\n",
        "from sklearn.metrics import accuracy_score\n",
        "\n",
        "# Assuming df is your DataFrame\n",
        "# ... (Your code to load the DataFrame)\n",
        "\n",
        "# Identify columns with string values (object dtype)\n",
        "categorical_cols = X_train.select_dtypes(include=['object']).columns\n",
        "\n",
        "# One-hot encode categorical features\n",
        "X_train = pd.get_dummies(X_train, columns=categorical_cols)\n",
        "X_test = pd.get_dummies(X_test, columns=categorical_cols)\n",
        "\n",
        "# Align training and testing data after one-hot encoding\n",
        "X_train, X_test = X_train.align(X_test, join='left', axis=1, fill_value=0)\n",
        "\n",
        "\n",
        "# Create and train the model\n",
        "model = LogisticRegression()\n",
        "model.fit(X_train, y_train)\n",
        "\n",
        "# Make predictions and calculate accuracy\n",
        "y_train_pred = model.predict(X_train)\n",
        "y_test_pred = model.predict(X_test)\n",
        "\n",
        "train_accuracy = accuracy_score(y_train, y_train_pred)\n",
        "test_accuracy = accuracy_score(y_test, y_test_pred)\n",
        "\n",
        "print(f\"Training Accuracy: {train_accuracy}\")\n",
        "print(f\"Test Accuracy: {test_accuracy}\")"
      ],
      "metadata": {
        "id": "UW3FMdjQEEl3",
        "colab": {
          "base_uri": "https://localhost:8080/"
        },
        "outputId": "6168649b-ad83-4c4d-e6c6-72af19883563"
      },
      "execution_count": 10,
      "outputs": [
        {
          "output_type": "stream",
          "name": "stdout",
          "text": [
            "Training Accuracy: 0.843441466854725\n",
            "Test Accuracy: 0.7528089887640449\n"
          ]
        },
        {
          "output_type": "stream",
          "name": "stderr",
          "text": [
            "/usr/local/lib/python3.11/dist-packages/sklearn/linear_model/_logistic.py:465: ConvergenceWarning: lbfgs failed to converge (status=1):\n",
            "STOP: TOTAL NO. of ITERATIONS REACHED LIMIT.\n",
            "\n",
            "Increase the number of iterations (max_iter) or scale the data as shown in:\n",
            "    https://scikit-learn.org/stable/modules/preprocessing.html\n",
            "Please also refer to the documentation for alternative solver options:\n",
            "    https://scikit-learn.org/stable/modules/linear_model.html#logistic-regression\n",
            "  n_iter_i = _check_optimize_result(\n"
          ]
        }
      ]
    },
    {
      "cell_type": "markdown",
      "source": [
        "## Section 4: Model Evaluation"
      ],
      "metadata": {
        "id": "GNO0DPi3EpgF"
      }
    },
    {
      "cell_type": "markdown",
      "source": [
        "### **Task 4**: Confusion Matrix & Classification Report\n",
        "\n",
        "*Instruction*: Evaluate the model using confusion matrix and classification report."
      ],
      "metadata": {
        "id": "W74DNGaJEtdj"
      }
    },
    {
      "cell_type": "code",
      "source": [
        "from sklearn.metrics import confusion_matrix, classification_report\n",
        "\n",
        "# Generate predictions on the test set\n",
        "y_pred = model.predict(X_test)\n",
        "\n",
        "# Calculate the confusion matrix\n",
        "cm = confusion_matrix(y_test, y_pred)\n",
        "\n",
        "# Print the confusion matrix\n",
        "print(\"Confusion Matrix:\")\n",
        "print(cm)\n",
        "\n",
        "# Generate the classification report\n",
        "cr = classification_report(y_test, y_pred)\n",
        "\n",
        "# Print the classification report\n",
        "print(\"\\nClassification Report:\")\n",
        "print(cr)"
      ],
      "metadata": {
        "id": "aM8iWEAXEOmE",
        "colab": {
          "base_uri": "https://localhost:8080/"
        },
        "outputId": "acea6d2a-fd78-4bdf-9193-dfdfdaf9115f"
      },
      "execution_count": 11,
      "outputs": [
        {
          "output_type": "stream",
          "name": "stdout",
          "text": [
            "Confusion Matrix:\n",
            "[[95 16]\n",
            " [28 39]]\n",
            "\n",
            "Classification Report:\n",
            "              precision    recall  f1-score   support\n",
            "\n",
            "           0       0.77      0.86      0.81       111\n",
            "           1       0.71      0.58      0.64        67\n",
            "\n",
            "    accuracy                           0.75       178\n",
            "   macro avg       0.74      0.72      0.73       178\n",
            "weighted avg       0.75      0.75      0.75       178\n",
            "\n"
          ]
        }
      ]
    },
    {
      "cell_type": "markdown",
      "source": [
        "## Section 5: Try Another Model"
      ],
      "metadata": {
        "id": "yFxPFagsE9mS"
      }
    },
    {
      "cell_type": "markdown",
      "source": [
        "### **Task 5**:  Random Forest Classifier\n",
        "\n",
        "*Instruction*: Train a `RandomForestClassifier` and compare its performance with Logistic Regression.\n"
      ],
      "metadata": {
        "id": "IZwIOzHXFD1a"
      }
    },
    {
      "cell_type": "code",
      "source": [
        "from sklearn.ensemble import RandomForestClassifier\n",
        "from sklearn.metrics import accuracy_score\n",
        "\n",
        "# Create a Random Forest Classifier model\n",
        "rf_model = RandomForestClassifier(random_state=42)  # Setting random_state for reproducibility\n",
        "\n",
        "# Train the model on the training data\n",
        "rf_model.fit(X_train, y_train)\n",
        "\n",
        "# Make predictions on the training and test sets\n",
        "y_train_pred_rf = rf_model.predict(X_train)\n",
        "y_test_pred_rf = rf_model.predict(X_test)\n",
        "\n",
        "# Calculate accuracy scores\n",
        "train_accuracy_rf = accuracy_score(y_train, y_train_pred_rf)\n",
        "test_accuracy_rf = accuracy_score(y_test, y_test_pred_rf)\n",
        "\n",
        "# Display the accuracy scores and compare with Logistic Regression\n",
        "print(\"Random Forest Classifier:\")\n",
        "print(f\"Training Accuracy: {train_accuracy_rf}\") # Added closing curly brace\n",
        "print(f\"Test Accuracy: {test_accuracy_rf}\") # Added closing curly brace and the variable to print\n"
      ],
      "metadata": {
        "id": "VpUFTR1JFDWk",
        "colab": {
          "base_uri": "https://localhost:8080/"
        },
        "outputId": "7cb673aa-5763-4485-ac2c-71a1fe0384d1"
      },
      "execution_count": 13,
      "outputs": [
        {
          "output_type": "stream",
          "name": "stdout",
          "text": [
            "Random Forest Classifier:\n",
            "Training Accuracy: 1.0\n",
            "Test Accuracy: 0.8202247191011236\n"
          ]
        }
      ]
    },
    {
      "cell_type": "markdown",
      "source": [
        "## Section 6: Model Tuning"
      ],
      "metadata": {
        "id": "w-OY1jI5IaIB"
      }
    },
    {
      "cell_type": "markdown",
      "source": [
        "### **Task 6**: Hyperparameter Tuning (GridSearch)\n",
        "\n",
        "*Instruction*:Use `GridSearchCV` to tune `n_estimators` and `max_depth` of the Random Forest model."
      ],
      "metadata": {
        "id": "xeBCcr3RIi-8"
      }
    },
    {
      "cell_type": "code",
      "source": [
        "from sklearn.model_selection import GridSearchCV\n",
        "from sklearn.ensemble import RandomForestClassifier\n",
        "\n",
        "# Define the parameter grid\n",
        "param_grid = {\n",
        "    'n_estimators': [50, 100, 150, 200],  # Number of trees in the forest\n",
        "    'max_depth': [None, 10, 20, 30],  # Maximum depth of the trees\n",
        "}\n",
        "\n",
        "# Create a Random Forest Classifier\n",
        "rf_model = RandomForestClassifier(random_state=42)\n",
        "\n",
        "# Create GridSearchCV object\n",
        "grid_search = GridSearchCV(estimator=rf_model, param_grid=param_grid,\n",
        "                          scoring='accuracy', cv=5, n_jobs=-1, verbose=2)\n",
        "\n",
        "# Fit the grid search to the data\n",
        "grid_search.fit(X_train, y_train)\n",
        "\n",
        "# Get the best parameters and best score\n",
        "best_params = grid_search.best_params_\n",
        "best_score = grid_search.best_score_\n",
        "\n",
        "# Print the best parameters and score\n",
        "print(f\"Best Parameters: {best_params}\")\n",
        "print(f\"Best Accuracy Score: {best_score}\")\n",
        "\n",
        "# Evaluate the model with the best parameters on the test set\n",
        "best_rf_model = grid_search.best_estimator_\n",
        "test_accuracy = best_rf_model.score(X_test, y_test)\n",
        "print(f\"Test Accuracy with Best Parameters: {test_accuracy}\")\n"
      ],
      "metadata": {
        "id": "gSza6VScIakN",
        "colab": {
          "base_uri": "https://localhost:8080/"
        },
        "outputId": "3cbf9c37-bb02-42e2-ed36-40216bbe3d2d"
      },
      "execution_count": 14,
      "outputs": [
        {
          "output_type": "stream",
          "name": "stdout",
          "text": [
            "Fitting 5 folds for each of 16 candidates, totalling 80 fits\n",
            "Best Parameters: {'max_depth': 20, 'n_estimators': 50}\n",
            "Best Accuracy Score: 0.8307761462391369\n",
            "Test Accuracy with Best Parameters: 0.7752808988764045\n"
          ]
        }
      ]
    }
  ]
}