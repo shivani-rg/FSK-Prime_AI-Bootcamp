{
  "nbformat": 4,
  "nbformat_minor": 0,
  "metadata": {
    "colab": {
      "provenance": []
    },
    "kernelspec": {
      "name": "python3",
      "display_name": "Python 3"
    },
    "language_info": {
      "name": "python"
    }
  },
  "cells": [
    {
      "cell_type": "markdown",
      "source": [
        "# Task 1: Python Proficiency Check – AI Bootcamp Prep"
      ],
      "metadata": {
        "id": "L982FdumDCVn"
      }
    },
    {
      "cell_type": "markdown",
      "source": [
        "## Section 1: Basics & Control Flow"
      ],
      "metadata": {
        "id": "gk9AwRFXDO6n"
      }
    },
    {
      "cell_type": "markdown",
      "source": [
        "### **Task 1**: FizzBuzz with a Twist\n",
        "\n",
        "*Instruction*: Write a function that prints numbers from 1 to 50. For multiples of 3, print \"AI\", for multiples of 5 print \"Bootcamp\", and for multiples of both 3 and 5 print \"AI Bootcamp\"."
      ],
      "metadata": {
        "id": "tG2LLFb4DSrf"
      }
    },
    {
      "cell_type": "code",
      "source": [
        "def fizzbuzz_ai_bootcamp():\n",
        "  for i in range(1, 51):\n",
        "    if i % 3 == 0 and i % 5 == 0:\n",
        "      print(\"AI Bootcamp\")\n",
        "    elif i % 3 == 0:\n",
        "      print(\"AI\")\n",
        "    elif i % 5 == 0:\n",
        "      print(\"Bootcamp\")\n",
        "    else:\n",
        "      print(i)\n",
        "\n",
        "\n",
        "fizzbuzz_ai_bootcamp()"
      ],
      "metadata": {
        "id": "G6YtbgenDSWH",
        "outputId": "76ac3431-c85c-4c21-8bf5-61e3387022cf",
        "colab": {
          "base_uri": "https://localhost:8080/"
        }
      },
      "execution_count": 1,
      "outputs": [
        {
          "output_type": "stream",
          "name": "stdout",
          "text": [
            "1\n",
            "2\n",
            "AI\n",
            "4\n",
            "Bootcamp\n",
            "AI\n",
            "7\n",
            "8\n",
            "AI\n",
            "Bootcamp\n",
            "11\n",
            "AI\n",
            "13\n",
            "14\n",
            "AI Bootcamp\n",
            "16\n",
            "17\n",
            "AI\n",
            "19\n",
            "Bootcamp\n",
            "AI\n",
            "22\n",
            "23\n",
            "AI\n",
            "Bootcamp\n",
            "26\n",
            "AI\n",
            "28\n",
            "29\n",
            "AI Bootcamp\n",
            "31\n",
            "32\n",
            "AI\n",
            "34\n",
            "Bootcamp\n",
            "AI\n",
            "37\n",
            "38\n",
            "AI\n",
            "Bootcamp\n",
            "41\n",
            "AI\n",
            "43\n",
            "44\n",
            "AI Bootcamp\n",
            "46\n",
            "47\n",
            "AI\n",
            "49\n",
            "Bootcamp\n"
          ]
        }
      ]
    },
    {
      "cell_type": "markdown",
      "source": [
        "### **Task 2**: List Comprehensions and Functions\n",
        "\n",
        "*Instruction*: Given a list of numbers, square only the even numbers using a list comprehension and define a function that returns the result."
      ],
      "metadata": {
        "id": "8YMADBQmDhHU"
      }
    },
    {
      "cell_type": "code",
      "execution_count": 3,
      "metadata": {
        "colab": {
          "base_uri": "https://localhost:8080/"
        },
        "id": "sPfpD1yF4LTO",
        "outputId": "3af0e44e-88a2-4ca4-cf0f-6de737e9f046"
      },
      "outputs": [
        {
          "output_type": "stream",
          "name": "stdout",
          "text": [
            "[1, 4, 3, 16, 5, 36]\n",
            "[1, 4, 3, 16, 5, 36]\n"
          ]
        }
      ],
      "source": [
        "def square_evens(numbers):\n",
        "  return [num**2 if num % 2 == 0 else num for num in numbers]\n",
        "\n",
        "# Example usage:\n",
        "numbers = [1, 2, 3, 4, 5, 6]\n",
        "squared_evens = square_evens(numbers)\n",
        "print(squared_evens)  # Output: [1, 4, 3, 16, 5, 36]\n",
        "\n",
        "print(square_evens([1, 2, 3, 4, 5, 6]))"
      ]
    },
    {
      "cell_type": "markdown",
      "source": [
        "## Section 2: Data Structures & File I/O"
      ],
      "metadata": {
        "id": "03CKwCBtDzRL"
      }
    },
    {
      "cell_type": "markdown",
      "source": [
        "### **Task 3**: Word Frequency from a File\n",
        "\n",
        "*Instruction*: Read the provided text file (sample.txt) and return the 5 most common words (ignoring punctuation and case)."
      ],
      "metadata": {
        "id": "oh1W_9m5DuzF"
      }
    },
    {
      "cell_type": "code",
      "source": [
        "from collections import Counter\n",
        "import re\n",
        "\n",
        "def top_5_words(filepath):\n",
        "    with open(filepath, 'r') as file:\n",
        "        text = file.read().lower()  # Read and convert to lowercase\n",
        "        words = re.findall(r'\\b\\w+\\b', text)  # Extract words using regex\n",
        "        word_counts = Counter(words)  # Count word frequencies\n",
        "        return word_counts.most_common(5)  # Get 5 most common words\n",
        "\n",
        "# Example usage:\n",
        "top_5_words('Sample_For_Task1.txt')\n",
        "\n",
        "\n",
        "\n"
      ],
      "metadata": {
        "id": "SQTsWR6GDn6e",
        "outputId": "1a08c08b-877a-4c51-e632-fdba23fab330",
        "colab": {
          "base_uri": "https://localhost:8080/"
        }
      },
      "execution_count": 15,
      "outputs": [
        {
          "output_type": "execute_result",
          "data": {
            "text/plain": [
              "[('the', 5), ('quick', 2), ('fox', 2), ('dog', 2), ('and', 2)]"
            ]
          },
          "metadata": {},
          "execution_count": 15
        }
      ]
    },
    {
      "cell_type": "markdown",
      "source": [
        "## Section 3: NumPy & pandas"
      ],
      "metadata": {
        "id": "mVV1BgZvEE3a"
      }
    },
    {
      "cell_type": "markdown",
      "source": [
        "### **Task 4**: NumPy Matrix Magic\n",
        "\n",
        "*Instruction*: Create a 5x5 matrix with random integers from 1 to 10. Replace all elements greater than 5 with 0."
      ],
      "metadata": {
        "id": "opUK7Z7LEIr4"
      }
    },
    {
      "cell_type": "code",
      "source": [
        "import numpy as np\n",
        "\n",
        "def matrix_transform():\n",
        "\n",
        "    matrix = np.random.randint(1, 11, size=(5, 5))\n",
        "\n",
        "\n",
        "    matrix[matrix > 5] = 0\n",
        "\n",
        "    return matrix\n",
        "transformed_matrix = matrix_transform()\n",
        "print(transformed_matrix)\n",
        "\n",
        "\n",
        "matrix_transform()"
      ],
      "metadata": {
        "id": "UW3FMdjQEEl3",
        "outputId": "ea207368-31b4-4adb-a2dd-8b1e6b649fef",
        "colab": {
          "base_uri": "https://localhost:8080/"
        }
      },
      "execution_count": 5,
      "outputs": [
        {
          "output_type": "stream",
          "name": "stdout",
          "text": [
            "[[1 3 3 0 3]\n",
            " [0 0 0 0 0]\n",
            " [0 0 5 1 2]\n",
            " [0 1 1 4 0]\n",
            " [1 4 0 2 0]]\n"
          ]
        },
        {
          "output_type": "execute_result",
          "data": {
            "text/plain": [
              "array([[0, 0, 3, 5, 5],\n",
              "       [0, 1, 5, 0, 5],\n",
              "       [1, 0, 0, 1, 1],\n",
              "       [4, 0, 1, 0, 0],\n",
              "       [0, 0, 0, 1, 0]])"
            ]
          },
          "metadata": {},
          "execution_count": 5
        }
      ]
    },
    {
      "cell_type": "markdown",
      "source": [
        "### **Task 5**: pandas DataFrame Manipulation\n",
        "\n",
        "*Instruction*: Given the following dictionary, convert it into a DataFrame, calculate the average score per student, and add it as a new column."
      ],
      "metadata": {
        "id": "YuFv3sE6ET9d"
      }
    },
    {
      "cell_type": "code",
      "source": [
        "import pandas as pd\n",
        "\n",
        "data = {\n",
        "    'Name': ['Alice', 'Bob', 'Charlie'],\n",
        "    'Math': [85, 78, 92],\n",
        "    'Science': [90, 88, 84],\n",
        "    'English': [87, 85, 80]\n",
        "}\n",
        "\n",
        "# Create a pandas DataFrame\n",
        "df = pd.DataFrame(data)\n",
        "\n",
        "# Calculate the average score per student\n",
        "df['Average'] = df[['Math', 'Science', 'English']].mean(axis=1)\n",
        "\n",
        "# Display the DataFrame\n",
        "print(df)"
      ],
      "metadata": {
        "id": "horbXH8iETuH",
        "outputId": "28507abf-0550-4d57-d0f5-c0334855654b",
        "colab": {
          "base_uri": "https://localhost:8080/"
        }
      },
      "execution_count": 10,
      "outputs": [
        {
          "output_type": "stream",
          "name": "stdout",
          "text": [
            "      Name  Math  Science  English    Average\n",
            "0    Alice    85       90       87  87.333333\n",
            "1      Bob    78       88       85  83.666667\n",
            "2  Charlie    92       84       80  85.333333\n"
          ]
        }
      ]
    },
    {
      "cell_type": "markdown",
      "source": [
        "## Section 4: Visualization & Logic"
      ],
      "metadata": {
        "id": "GNO0DPi3EpgF"
      }
    },
    {
      "cell_type": "markdown",
      "source": [
        "### **Task 6**: Simple Data Visualization\n",
        "\n",
        "*Instruction*: Use matplotlib to create a bar chart showing the average score per subject from the DataFrame in the previous task."
      ],
      "metadata": {
        "id": "W74DNGaJEtdj"
      }
    },
    {
      "cell_type": "code",
      "source": [
        "import matplotlib.pyplot as plt\n",
        "\n",
        "import matplotlib.pyplot as plt\n",
        "import pandas as pd\n",
        "\n",
        "data = {\n",
        "    'Name': ['Alice', 'Bob', 'Charlie'],\n",
        "    'Math': [85, 78, 92],\n",
        "    'Science': [90, 88, 84],\n",
        "    'English': [87, 85, 80]\n",
        "}\n",
        "\n",
        "df = pd.DataFrame(data)\n",
        "df['Average'] = df[['Math', 'Science', 'English']].mean(axis=1)\n",
        "\n",
        "# Calculate average score per subject\n",
        "average_scores = df[['Math', 'Science', 'English']].mean()\n",
        "\n",
        "# Create bar chart\n",
        "plt.bar(average_scores.index, average_scores.values)\n",
        "plt.xlabel(\"Subject\")\n",
        "plt.ylabel(\"Average Score\")\n",
        "plt.title(\"Average Score per Subject\")\n",
        "plt.show()\n"
      ],
      "metadata": {
        "id": "aM8iWEAXEOmE",
        "outputId": "884599bc-0a1b-4b45-a0fb-3701b79c5639",
        "colab": {
          "base_uri": "https://localhost:8080/",
          "height": 472
        }
      },
      "execution_count": 11,
      "outputs": [
        {
          "output_type": "display_data",
          "data": {
            "text/plain": [
              "<Figure size 640x480 with 1 Axes>"
            ],
            "image/png": "[encoded data removed]"
          },
          "metadata": {}
        }
      ]
    },
    {
      "cell_type": "markdown",
      "source": [
        "## Section 5: Mini-Project Challenge"
      ],
      "metadata": {
        "id": "yFxPFagsE9mS"
      }
    },
    {
      "cell_type": "markdown",
      "source": [
        "### **Task 7**: Build a Mini Calculator with Exception Handling\n",
        "\n",
        "*Instruction*: Write a function that takes two numbers and an operator as input (+, -, *, /). Return the result, and handle divide-by-zero and invalid operator cases with appropriate error messages."
      ],
      "metadata": {
        "id": "IZwIOzHXFD1a"
      }
    },
    {
      "cell_type": "code",
      "source": [
        "def calculator(a, b, operator):\n",
        "    try:\n",
        "        if operator == '+':\n",
        "            return a + b\n",
        "        elif operator == '-':\n",
        "            return a - b\n",
        "        elif operator == '*':\n",
        "            return a * b\n",
        "        elif operator == '/':\n",
        "            if b == 0:\n",
        "                raise ZeroDivisionError(\"Division by zero is not allowed\")\n",
        "            return a / b\n",
        "        else:\n",
        "            raise ValueError(\"Invalid operator. Please use +, -, *, or /\")\n",
        "    except ZeroDivisionError as e:\n",
        "        return str(e)  # Return the error message as a string\n",
        "    except ValueError as e:\n",
        "        return str(e)  # Return the error message as a string\n",
        "\n",
        "# Example usage\n",
        "result = calculator(10, 5, '+')\n",
        "print(result)  # Output: 15\n",
        "\n",
        "result = calculator(10, 0, '/')\n",
        "print(result)  # Output: Division by zero is not allowed\n",
        "\n",
        "result = calculator(10, 5, '$')\n",
        "print(result)  # Output: Invalid operator. Please use +, -, *, or /\n",
        "\n",
        "# Example:\n",
        "calculator(10, 0, '/')"
      ],
      "metadata": {
        "id": "VpUFTR1JFDWk",
        "outputId": "b38fd7db-272d-4f47-9313-3f2e7a377b17",
        "colab": {
          "base_uri": "https://localhost:8080/",
          "height": 87
        }
      },
      "execution_count": 13,
      "outputs": [
        {
          "output_type": "stream",
          "name": "stdout",
          "text": [
            "15\n",
            "Division by zero is not allowed\n",
            "Invalid operator. Please use +, -, *, or /\n"
          ]
        },
        {
          "output_type": "execute_result",
          "data": {
            "text/plain": [
              "'Division by zero is not allowed'"
            ],
            "application/vnd.google.colaboratory.intrinsic+json": {
              "type": "string"
            }
          },
          "metadata": {},
          "execution_count": 13
        }
      ]
    }
  ]
}